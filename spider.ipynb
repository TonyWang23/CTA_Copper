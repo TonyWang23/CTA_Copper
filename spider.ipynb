{
 "cells": [
  {
   "cell_type": "code",
   "execution_count": 4,
   "metadata": {},
   "outputs": [],
   "source": [
    "import os\n",
    "import datetime \n",
    "from selenium import webdriver\n",
    "from selenium.webdriver.common.keys import Keys\n",
    "from webdriver_manager.firefox import GeckoDriverManager\n",
    "import pandas as pd"
   ]
  },
  {
   "cell_type": "code",
   "execution_count": 5,
   "metadata": {},
   "outputs": [],
   "source": [
    "def catch_data(url,col_name,shift=0):\n",
    "    if not os.path.exists('./web_data'):\n",
    "        os.makedirs('./web_data')\n",
    "    if os.path.exists('./web_data/'+col_name+'.csv'):\n",
    "        data=pd.read_csv('./web_data/'+col_name+'.csv')\n",
    "        return data\n",
    "    \n",
    "    driver = webdriver.Firefox(executable_path=GeckoDriverManager().install())\n",
    "    driver.get(url)\n",
    "    dates = driver.execute_script(\"return Highcharts.charts[0].series[0].xData\")\n",
    "    index = driver.execute_script(\"return Highcharts.charts[0].series[0].yData\")\n",
    "    #only include the data in recent 20 years\n",
    "    if len(dates)>6000:\n",
    "        dates=dates[-6000:]\n",
    "        index=index[-6000:]\n",
    "        \n",
    "    index_day=[datetime.datetime.fromtimestamp(i/1000).strftime('X%d/X%m/%Y').replace('X0','X').replace('X','') for i in dates]\n",
    "    \n",
    "    data=pd.DataFrame({'date':index_day,col_name:index})\n",
    "    data[col_name]=data[col_name].shift(shift)\n",
    "    data.to_csv('./web_data/'+col_name+'.csv',index=False)\n",
    "    driver.close()\n",
    "    return data"
   ]
  },
  {
   "cell_type": "code",
   "execution_count": 6,
   "metadata": {},
   "outputs": [
    {
     "name": "stderr",
     "output_type": "stream",
     "text": [
      "[WDM] - Downloading: 16.9kB [00:00, 17.3MB/s]                   \n",
      "[WDM] - Downloading: 16.9kB [00:00, 8.69MB/s]                   \n",
      "[WDM] - Downloading: 16.9kB [00:00, 6.86MB/s]                   \n"
     ]
    }
   ],
   "source": [
    "NYMEX_future=catch_data(\"https://en.macromicro.me/collections/68/copper-relative/1405/nymex-copper-future-pricer\",\"NYMEX_future\",shift=1)\n",
    "Copper_COT_index=catch_data(\"https://en.macromicro.me/collections/68/copper-relative/942/copper-cot-index\",\"Copper_COT_index\",shift=1)\n",
    "LME_Copper_Stock=catch_data(\"https://en.macromicro.me/collections/68/copper-relative/943/lme-copper-warehouse-stock\",\"LME_Copper_Stock\",shift=1)\n",
    "Caixin_PMI=catch_data(\"https://en.macromicro.me/collections/68/copper-relative/964/copper-china-manufacturing-pmi\",\"Caixin_PMI\",shift=3)\n"
   ]
  },
  {
   "cell_type": "code",
   "execution_count": 9,
   "metadata": {},
   "outputs": [
    {
     "data": {
      "text/html": [
       "<div>\n",
       "<style scoped>\n",
       "    .dataframe tbody tr th:only-of-type {\n",
       "        vertical-align: middle;\n",
       "    }\n",
       "\n",
       "    .dataframe tbody tr th {\n",
       "        vertical-align: top;\n",
       "    }\n",
       "\n",
       "    .dataframe thead th {\n",
       "        text-align: right;\n",
       "    }\n",
       "</style>\n",
       "<table border=\"1\" class=\"dataframe\">\n",
       "  <thead>\n",
       "    <tr style=\"text-align: right;\">\n",
       "      <th></th>\n",
       "      <th>date</th>\n",
       "      <th>NYMEX_future</th>\n",
       "      <th>Copper_COT_index</th>\n",
       "      <th>LME_Copper_Stock</th>\n",
       "    </tr>\n",
       "  </thead>\n",
       "  <tbody>\n",
       "    <tr>\n",
       "      <th>0</th>\n",
       "      <td>07/01/2002</td>\n",
       "      <td>0.6700</td>\n",
       "      <td>5674.0</td>\n",
       "      <td>800375.0</td>\n",
       "    </tr>\n",
       "    <tr>\n",
       "      <th>1</th>\n",
       "      <td>14/01/2002</td>\n",
       "      <td>0.7060</td>\n",
       "      <td>13604.0</td>\n",
       "      <td>807125.0</td>\n",
       "    </tr>\n",
       "    <tr>\n",
       "      <th>2</th>\n",
       "      <td>28/01/2002</td>\n",
       "      <td>0.7090</td>\n",
       "      <td>23165.0</td>\n",
       "      <td>830325.0</td>\n",
       "    </tr>\n",
       "    <tr>\n",
       "      <th>3</th>\n",
       "      <td>04/02/2002</td>\n",
       "      <td>0.7335</td>\n",
       "      <td>22237.0</td>\n",
       "      <td>855275.0</td>\n",
       "    </tr>\n",
       "    <tr>\n",
       "      <th>4</th>\n",
       "      <td>11/02/2002</td>\n",
       "      <td>0.7315</td>\n",
       "      <td>35246.0</td>\n",
       "      <td>866300.0</td>\n",
       "    </tr>\n",
       "    <tr>\n",
       "      <th>...</th>\n",
       "      <td>...</td>\n",
       "      <td>...</td>\n",
       "      <td>...</td>\n",
       "      <td>...</td>\n",
       "    </tr>\n",
       "    <tr>\n",
       "      <th>964</th>\n",
       "      <td>19/12/2022</td>\n",
       "      <td>3.7752</td>\n",
       "      <td>9115.0</td>\n",
       "      <td>84100.0</td>\n",
       "    </tr>\n",
       "    <tr>\n",
       "      <th>965</th>\n",
       "      <td>09/01/2023</td>\n",
       "      <td>3.9550</td>\n",
       "      <td>-4512.0</td>\n",
       "      <td>86400.0</td>\n",
       "    </tr>\n",
       "    <tr>\n",
       "      <th>966</th>\n",
       "      <td>16/01/2023</td>\n",
       "      <td>4.2050</td>\n",
       "      <td>26480.0</td>\n",
       "      <td>83850.0</td>\n",
       "    </tr>\n",
       "    <tr>\n",
       "      <th>967</th>\n",
       "      <td>23/01/2023</td>\n",
       "      <td>4.2960</td>\n",
       "      <td>38933.0</td>\n",
       "      <td>80025.0</td>\n",
       "    </tr>\n",
       "    <tr>\n",
       "      <th>968</th>\n",
       "      <td>30/01/2023</td>\n",
       "      <td>4.2145</td>\n",
       "      <td>46712.0</td>\n",
       "      <td>73975.0</td>\n",
       "    </tr>\n",
       "  </tbody>\n",
       "</table>\n",
       "<p>969 rows × 4 columns</p>\n",
       "</div>"
      ],
      "text/plain": [
       "           date  NYMEX_future  Copper_COT_index  LME_Copper_Stock\n",
       "0    07/01/2002        0.6700            5674.0          800375.0\n",
       "1    14/01/2002        0.7060           13604.0          807125.0\n",
       "2    28/01/2002        0.7090           23165.0          830325.0\n",
       "3    04/02/2002        0.7335           22237.0          855275.0\n",
       "4    11/02/2002        0.7315           35246.0          866300.0\n",
       "..          ...           ...               ...               ...\n",
       "964  19/12/2022        3.7752            9115.0           84100.0\n",
       "965  09/01/2023        3.9550           -4512.0           86400.0\n",
       "966  16/01/2023        4.2050           26480.0           83850.0\n",
       "967  23/01/2023        4.2960           38933.0           80025.0\n",
       "968  30/01/2023        4.2145           46712.0           73975.0\n",
       "\n",
       "[969 rows x 4 columns]"
      ]
     },
     "execution_count": 9,
     "metadata": {},
     "output_type": "execute_result"
    }
   ],
   "source": [
    "pd.merge(pd.merge(NYMEX_future,Copper_COT_index,on='date'),LME_Copper_Stock,on='date')"
   ]
  },
  {
   "cell_type": "code",
   "execution_count": 19,
   "metadata": {},
   "outputs": [],
   "source": [
    "merged_data=pd.merge(pd.merge(pd.merge(NYMEX_future,Copper_COT_index,on='date',how='left'),LME_Copper_Stock,on='date',how='left'),Caixin_PMI,on='date',how='left')\n",
    "merged_data.fillna(method='ffill',inplace=True)\n",
    "merged_data.to_csv('MM.csv',index=False)"
   ]
  }
 ],
 "metadata": {
  "kernelspec": {
   "display_name": "base",
   "language": "python",
   "name": "python3"
  },
  "language_info": {
   "codemirror_mode": {
    "name": "ipython",
    "version": 3
   },
   "file_extension": ".py",
   "mimetype": "text/x-python",
   "name": "python",
   "nbconvert_exporter": "python",
   "pygments_lexer": "ipython3",
   "version": "3.9.7"
  },
  "orig_nbformat": 4,
  "vscode": {
   "interpreter": {
    "hash": "b40c0f21b984c998ce7814fd8a3963df685046747275dd2cb46d3aded93132e4"
   }
  }
 },
 "nbformat": 4,
 "nbformat_minor": 2
}
